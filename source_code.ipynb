{
 "cells": [
  {
   "cell_type": "code",
   "execution_count": 161,
   "metadata": {},
   "outputs": [],
   "source": [
    "#import libraries--\n",
    "import tensorflow as tf\n",
    "from tensorflow.keras.models import Sequential\n",
    "from tensorflow.keras.layers import Flatten, Dense, Activation, Dropout, Conv2D, MaxPooling2D\n",
    "import numpy as np\n",
    "import matplotlib.pyplot as plt\n",
    "import os\n",
    "import cv2\n",
    "IMG_SIZE=50\n",
    "\n"
   ]
  },
  {
   "cell_type": "code",
   "execution_count": 162,
   "metadata": {},
   "outputs": [
    {
     "name": "stdout",
     "output_type": "stream",
     "text": [
      "2068\n"
     ]
    }
   ],
   "source": [
    "#create a training dataset from images--\n",
    "DATADIR1=\"Downloads/Datasets/train\"\n",
    "CATEGORIES1=[\"man\",\"woman\"]\n",
    "\n",
    "training_data=[]\n",
    "def create_training_data():\n",
    "    for category in CATEGORIES1:\n",
    "        path=os.path.join(DATADIR1,category)\n",
    "        class_num=CATEGORIES1.index(category)\n",
    "        for img in os.listdir(path):\n",
    "            try:\n",
    "                img_array=cv2.imread(os.path.join(path,img),cv2.IMREAD_GRAYSCALE)\n",
    "                new_array=cv2.resize(img_array,(IMG_SIZE,IMG_SIZE))\n",
    "                training_data.append([new_array,class_num])\n",
    "            except Exception as e:\n",
    "                pass\n",
    "create_training_data()\n",
    "print(len(training_data))"
   ]
  },
  {
   "cell_type": "code",
   "execution_count": 163,
   "metadata": {},
   "outputs": [
    {
     "name": "stdout",
     "output_type": "stream",
     "text": [
      "200\n"
     ]
    }
   ],
   "source": [
    "#create a test dataset from images--\n",
    "DATADIR2=\"Downloads/Datasets/test\"\n",
    "CATEGORIES2=[\"man\",\"woman\"]\n",
    "test_data=[]\n",
    "def create_test_data():\n",
    "    for category in CATEGORIES2:\n",
    "        path=os.path.join(DATADIR2,category)\n",
    "        class_num=CATEGORIES2.index(category)\n",
    "        for img in os.listdir(path):\n",
    "            try:\n",
    "                img_array=cv2.imread(os.path.join(path,img),cv2.IMREAD_GRAYSCALE)\n",
    "                new_array=cv2.resize(img_array,(IMG_SIZE,IMG_SIZE))\n",
    "                test_data.append([new_array,class_num])\n",
    "            except Exception as e:\n",
    "                pass\n",
    "create_test_data()\n",
    "print(len(test_data))"
   ]
  },
  {
   "cell_type": "code",
   "execution_count": 164,
   "metadata": {},
   "outputs": [],
   "source": [
    "#shuffling of data--\n",
    "import random\n",
    "random.shuffle(training_data)\n",
    "random.shuffle(test_data)"
   ]
  },
  {
   "cell_type": "code",
   "execution_count": 165,
   "metadata": {},
   "outputs": [],
   "source": [
    "#split training data into features and label--\n",
    "train_X=[]\n",
    "train_y=[]\n",
    "for features,label in training_data:\n",
    "    train_X.append(features)\n",
    "    train_y.append(label)\n",
    "train_X=np.array(train_X).reshape(-1,IMG_SIZE,IMG_SIZE,1)\n",
    "train_X=train_X/255.0"
   ]
  },
  {
   "cell_type": "code",
   "execution_count": 166,
   "metadata": {},
   "outputs": [],
   "source": [
    "#split test data into features and label--\n",
    "test_X=[]\n",
    "test_y=[]\n",
    "for features,label in test_data:\n",
    "    test_X.append(features)\n",
    "    test_y.append(label)    \n",
    "test_X=np.array(test_X).reshape(-1,IMG_SIZE,IMG_SIZE,1)\n",
    "test_X=test_X/255.0"
   ]
  },
  {
   "cell_type": "code",
   "execution_count": 167,
   "metadata": {},
   "outputs": [
    {
     "name": "stdout",
     "output_type": "stream",
     "text": [
      "_________________________________________________________________\n",
      "Layer (type)                 Output Shape              Param #   \n",
      "=================================================================\n",
      "conv2d_32 (Conv2D)           (None, 48, 48, 64)        640       \n",
      "_________________________________________________________________\n",
      "activation_25 (Activation)   (None, 48, 48, 64)        0         \n",
      "_________________________________________________________________\n",
      "max_pooling2d_29 (MaxPooling (None, 24, 24, 64)        0         \n",
      "_________________________________________________________________\n",
      "dropout_23 (Dropout)         (None, 24, 24, 64)        0         \n",
      "_________________________________________________________________\n",
      "conv2d_33 (Conv2D)           (None, 22, 22, 64)        36928     \n",
      "_________________________________________________________________\n",
      "activation_26 (Activation)   (None, 22, 22, 64)        0         \n",
      "_________________________________________________________________\n",
      "max_pooling2d_30 (MaxPooling (None, 11, 11, 64)        0         \n",
      "_________________________________________________________________\n",
      "dropout_24 (Dropout)         (None, 11, 11, 64)        0         \n",
      "_________________________________________________________________\n",
      "flatten_14 (Flatten)         (None, 7744)              0         \n",
      "_________________________________________________________________\n",
      "dense_28 (Dense)             (None, 64)                495680    \n",
      "_________________________________________________________________\n",
      "activation_27 (Activation)   (None, 64)                0         \n",
      "_________________________________________________________________\n",
      "dense_29 (Dense)             (None, 1)                 65        \n",
      "_________________________________________________________________\n",
      "activation_28 (Activation)   (None, 1)                 0         \n",
      "=================================================================\n",
      "Total params: 533,313\n",
      "Trainable params: 533,313\n",
      "Non-trainable params: 0\n",
      "_________________________________________________________________\n"
     ]
    }
   ],
   "source": [
    "#creating a model--\n",
    "model = Sequential()\n",
    "\n",
    "model.add(Conv2D(64, kernel_size=(3, 3),input_shape=X.shape[1:]))\n",
    "model.add(Activation('relu'))\n",
    "model.add(MaxPooling2D(pool_size=(2, 2)))\n",
    "model.add(Dropout(0.25))\n",
    "\n",
    "model.add(Conv2D(64, kernel_size=(3, 3)))\n",
    "model.add(Activation('relu'))\n",
    "model.add(MaxPooling2D(pool_size=(2, 2)))\n",
    "model.add(Dropout(0.25))\n",
    "model.add(Flatten())\n",
    "\n",
    "model.add(Dense(64))\n",
    "model.add(Activation('relu'))\n",
    "\n",
    "model.add(Dense(1))\n",
    "model.add(Activation('sigmoid'))\n",
    "\n",
    "model.summary()"
   ]
  },
  {
   "cell_type": "code",
   "execution_count": 154,
   "metadata": {
    "scrolled": true
   },
   "outputs": [
    {
     "name": "stdout",
     "output_type": "stream",
     "text": [
      "Train on 1861 samples, validate on 207 samples\n",
      "Epoch 1/20\n",
      "1861/1861 [==============================] - 20s 11ms/step - loss: 0.5450 - acc: 0.7082 - val_loss: 0.4152 - val_acc: 0.7971\n",
      "Epoch 2/20\n",
      "1861/1861 [==============================] - 16s 8ms/step - loss: 0.3516 - acc: 0.8350 - val_loss: 0.3032 - val_acc: 0.8841\n",
      "Epoch 3/20\n",
      "1861/1861 [==============================] - 16s 9ms/step - loss: 0.2958 - acc: 0.8812 - val_loss: 0.4120 - val_acc: 0.8406\n",
      "Epoch 4/20\n",
      "1861/1861 [==============================] - 16s 9ms/step - loss: 0.2556 - acc: 0.8958 - val_loss: 0.3087 - val_acc: 0.8744\n",
      "Epoch 5/20\n",
      "1861/1861 [==============================] - 16s 9ms/step - loss: 0.2360 - acc: 0.9017 - val_loss: 0.3258 - val_acc: 0.8502\n",
      "Epoch 6/20\n",
      "1861/1861 [==============================] - 16s 9ms/step - loss: 0.2042 - acc: 0.9199 - val_loss: 0.2956 - val_acc: 0.8744\n",
      "Epoch 7/20\n",
      "1861/1861 [==============================] - 16s 9ms/step - loss: 0.1777 - acc: 0.9264 - val_loss: 0.3065 - val_acc: 0.8889\n",
      "Epoch 8/20\n",
      "1861/1861 [==============================] - 16s 9ms/step - loss: 0.1674 - acc: 0.9344 - val_loss: 0.2909 - val_acc: 0.8744\n",
      "Epoch 9/20\n",
      "1861/1861 [==============================] - 16s 9ms/step - loss: 0.1766 - acc: 0.9210 - val_loss: 0.2640 - val_acc: 0.9034\n",
      "Epoch 10/20\n",
      "1861/1861 [==============================] - 16s 9ms/step - loss: 0.1340 - acc: 0.9409 - val_loss: 0.3682 - val_acc: 0.8696\n",
      "Epoch 11/20\n",
      "1861/1861 [==============================] - 16s 9ms/step - loss: 0.1408 - acc: 0.9463 - val_loss: 0.2807 - val_acc: 0.9179\n",
      "Epoch 12/20\n",
      "1861/1861 [==============================] - 16s 9ms/step - loss: 0.1193 - acc: 0.9602 - val_loss: 0.2979 - val_acc: 0.9082\n",
      "Epoch 13/20\n",
      "1861/1861 [==============================] - 16s 9ms/step - loss: 0.0886 - acc: 0.9688 - val_loss: 0.3366 - val_acc: 0.8986\n",
      "Epoch 14/20\n",
      "1861/1861 [==============================] - 16s 9ms/step - loss: 0.0964 - acc: 0.9635 - val_loss: 0.3441 - val_acc: 0.8599\n",
      "Epoch 15/20\n",
      "1861/1861 [==============================] - 16s 9ms/step - loss: 0.1010 - acc: 0.9624 - val_loss: 0.3080 - val_acc: 0.8937\n",
      "Epoch 16/20\n",
      "1861/1861 [==============================] - 16s 8ms/step - loss: 0.0864 - acc: 0.9661 - val_loss: 0.3047 - val_acc: 0.8986\n",
      "Epoch 17/20\n",
      "1861/1861 [==============================] - 16s 8ms/step - loss: 0.0694 - acc: 0.9731 - val_loss: 0.3781 - val_acc: 0.8889\n",
      "Epoch 18/20\n",
      "1861/1861 [==============================] - 16s 8ms/step - loss: 0.0728 - acc: 0.9764 - val_loss: 0.3235 - val_acc: 0.8937\n",
      "Epoch 19/20\n",
      "1861/1861 [==============================] - 16s 9ms/step - loss: 0.0698 - acc: 0.9726 - val_loss: 0.3125 - val_acc: 0.9179\n",
      "Epoch 20/20\n",
      "1861/1861 [==============================] - 16s 8ms/step - loss: 0.0753 - acc: 0.9661 - val_loss: 0.3516 - val_acc: 0.9130\n"
     ]
    }
   ],
   "source": [
    "#training the model--\n",
    "model.compile(loss='binary_crossentropy',optimizer='adam',metrics=['accuracy'])\n",
    "result=model.fit(train_X,train_y,batch_size=10,epochs=20,validation_split=0.1)"
   ]
  },
  {
   "cell_type": "code",
   "execution_count": 159,
   "metadata": {},
   "outputs": [
    {
     "data": {
      "image/png": "[encoded data removed]",
      "text/plain": [
       "<Figure size 432x288 with 1 Axes>"
      ]
     },
     "metadata": {
      "needs_background": "light"
     },
     "output_type": "display_data"
    }
   ],
   "source": [
    "#Graphical representation--\n",
    "plt.plot(result.history['acc'])\n",
    "plt.plot(result.history['val_acc'])\n",
    "plt.title('Accuracy')\n",
    "plt.ylabel('accuracy percent')\n",
    "plt.xlabel('epochs')\n",
    "plt.legend(['train', 'valid'], loc='upper right')\n",
    "plt.show()"
   ]
  },
  {
   "cell_type": "code",
   "execution_count": 160,
   "metadata": {},
   "outputs": [
    {
     "name": "stdout",
     "output_type": "stream",
     "text": [
      "200/200 [==============================] - 0s 2ms/step\n",
      "0.2939729917049408 0.925\n"
     ]
    }
   ],
   "source": [
    "#prediction on test dataset\n",
    "test_loss,test_accu=model.evaluate(test_X,test_y)\n",
    "print(test_loss,test_accu)"
   ]
  }
 ],
 "metadata": {
  "kernelspec": {
   "display_name": "Python 3",
   "language": "python",
   "name": "python3"
  },
  "language_info": {
   "codemirror_mode": {
    "name": "ipython",
    "version": 3
   },
   "file_extension": ".py",
   "mimetype": "text/x-python",
   "name": "python",
   "nbconvert_exporter": "python",
   "pygments_lexer": "ipython3",
   "version": "3.6.7"
  }
 },
 "nbformat": 4,
 "nbformat_minor": 2
}
